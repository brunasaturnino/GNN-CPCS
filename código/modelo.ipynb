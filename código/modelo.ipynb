{
 "cells": [
  {
   "cell_type": "markdown",
   "metadata": {},
   "source": [
    "## Criação lookup"
   ]
  },
  {
   "cell_type": "code",
   "execution_count": 23,
   "metadata": {},
   "outputs": [
    {
     "name": "stdout",
     "output_type": "stream",
     "text": [
      "Carregando dados de tráfego...\n",
      "Arquivo ip_lookup.json criado com sucesso!\n"
     ]
    }
   ],
   "source": [
    "import json\n",
    "import pandas as pd\n",
    "import os\n",
    "\n",
    "# Carregamento dos Dados de Tráfego\n",
    "print(\"Carregando dados de tráfego...\")\n",
    "df_trafego = pd.read_csv(\"../data/honeypot_data.csv\")\n",
    "\n",
    "# Criar diretório se não existir\n",
    "os.makedirs(\"../data/graph\", exist_ok=True)\n",
    "\n",
    "# Gerar lookup para IPs únicos\n",
    "unique_ips = pd.concat([df_trafego['src_ip'], df_trafego['dst_ip']]).unique()\n",
    "ip_lookup = {str(ip): idx for idx, ip in enumerate(unique_ips)}\n",
    "\n",
    "# Salvar os dicionários como JSON\n",
    "with open(\"../data/graph/ip_lookup.json\", \"w\") as file:\n",
    "    json.dump(ip_lookup, file, indent=4)\n",
    "\n",
    "print(\"Arquivo ip_lookup.json criado com sucesso!\")\n"
   ]
  },
  {
   "cell_type": "markdown",
   "metadata": {},
   "source": [
    "## Features"
   ]
  },
  {
   "cell_type": "code",
   "execution_count": null,
   "metadata": {},
   "outputs": [
    {
     "name": "stdout",
     "output_type": "stream",
     "text": [
      "Carregando dados de tráfego...\n",
      "Carregando dados de Ground Truth...\n",
      "Carregando matrizes de adjacência...\n",
      "Carregando dicionários de lookup...\n"
     ]
    },
    {
     "data": {
      "application/vnd.jupyter.widget-view+json": {
       "model_id": "df2c1130177545de829d4e13676bba2b",
       "version_major": 2,
       "version_minor": 0
      },
      "text/plain": [
       "Processando features por dia:   0%|          | 0/3 [00:00<?, ?it/s]"
      ]
     },
     "metadata": {},
     "output_type": "display_data"
    },
    {
     "name": "stdout",
     "output_type": "stream",
     "text": [
      "\n",
      " Processando dia 01...\n",
      " Features do dia 01 salvas em '../data/features//features_01.csv'.\n",
      "\n",
      " Processando dia 02...\n",
      " Features do dia 02 salvas em '../data/features//features_02.csv'.\n",
      "\n",
      " Processando dia 03...\n",
      " Features do dia 03 salvas em '../data/features//features_03.csv'.\n",
      "\n",
      " Extração e salvamento de features concluídos!\n"
     ]
    }
   ],
   "source": [
    "import json\n",
    "import pandas as pd\n",
    "import numpy as np\n",
    "from tqdm.notebook import tqdm\n",
    "import os\n",
    "from glob import glob\n",
    "\n",
    "# Adiciona caminho para importações se necessário\n",
    "import sys\n",
    "sys.path.append('../')\n",
    "\n",
    "from src.preprocessing import *\n",
    "from src.preprocessing.nlp import *\n",
    "\n",
    "# Caminhos e parâmetros\n",
    "FILTER = 5\n",
    "FEATURES_DIR = \"../data/features/\"\n",
    "GRAPH_DIR = \"../data/graph/\"\n",
    "TRAFFIC_FILE = \"../data/honeypot_data.csv\"\n",
    "GT_FILE = \"../data/ground_truth_simulado.csv\"\n",
    "MATRIZ_DIR = \"../data/matrizes/\"\n",
    "\n",
    "os.makedirs(FEATURES_DIR, exist_ok=True)\n",
    "\n",
    "# Carregar dados\n",
    "print(\"Carregando dados de tráfego...\")\n",
    "df_trafego = pd.read_csv(TRAFFIC_FILE)\n",
    "df_trafego.rename(columns={'dst_ip': 'destino', 'pacotes': 'pkts'}, inplace=True)\n",
    "df_trafego = apply_packets_filter(df_trafego, FILTER)\n",
    "\n",
    "print(\"Carregando dados de Ground Truth...\")\n",
    "gt = pd.read_csv(GT_FILE)\n",
    "\n",
    "print(\"Carregando matrizes de adjacência...\")\n",
    "graph_files = sorted(glob(f\"{MATRIZ_DIR}/matriz_adjacencia_dia_*.txt\"))\n",
    "if not graph_files:\n",
    "    raise FileNotFoundError(f\"Nenhuma matriz encontrada em {MATRIZ_DIR}\")\n",
    "\n",
    "print(\"Carregando dicionários de lookup...\")\n",
    "with open(f\"{GRAPH_DIR}/ip_lookup.json\", \"r\") as file:\n",
    "    ip_lookup = json.load(file)\n",
    "\n",
    "# Processar por dia\n",
    "for file in tqdm(graph_files, desc=\"Processando features por dia\"):\n",
    "    dia = os.path.basename(file).split(\"_\")[-1].split(\".\")[0]\n",
    "    print(f\"\\n Processando dia {dia}...\")\n",
    "\n",
    "    try:\n",
    "        df_grafo = pd.read_csv(file, delim_whitespace=True, names=[\"origem\", \"destino\", \"peso\"])\n",
    "    except pd.errors.ParserError as e:\n",
    "        print(f\"Erro ao processar {file}: {e}\")\n",
    "        continue\n",
    "\n",
    "    df_trafego_dia = df_trafego[df_trafego['interval'] == int(dia)]\n",
    "    if df_trafego_dia.empty:\n",
    "        print(f\" Nenhum dado para o dia {dia}.\")\n",
    "        continue\n",
    "\n",
    "    df_merged = df_trafego_dia.merge(gt, on='src_ip', how='left').dropna()\n",
    "\n",
    "    # Adicionar IDs\n",
    "    df_merged['origem_id'] = df_merged['src_ip'].map(ip_lookup).fillna(-1).astype(int)\n",
    "\n",
    "\n",
    "    #  Geração de features baseadas em traços de personalidade\n",
    "    def extrair_features_por_nos(df, id_col):\n",
    "        return df.groupby(id_col).agg({\n",
    "            'tempo_ocioso': 'mean',          # Paciência          # Emocionalidade\n",
    "            'rastros': 'mean', \n",
    "            'etapas': 'mean', \n",
    "            'mov_mouse': 'mean', \n",
    "            'repet_comando': 'mean', \n",
    "            'pulos': 'mean',    # Perfeccionismo\n",
    "            'pkts': ['mean', 'sum']          # Pacotes como métrica complementar\n",
    "        }).reset_index()\n",
    "\n",
    "    # Features por origem e destino\n",
    "    feat_origem = extrair_features_por_nos(df_merged, 'origem_id')\n",
    "\n",
    "    # Renomear colunas\n",
    "    feat_origem.columns = ['node_id'] + [f\"{col}_origem\" for col in feat_origem.columns[1:]]\n",
    "\n",
    "    # Combinar e preencher\n",
    "    features = feat_origem\n",
    "\n",
    "    # Garantir que todos os IPs estejam presentes\n",
    "    todos_nos = pd.DataFrame({'node_id': list(ip_lookup.values())})\n",
    "    features = todos_nos.merge(features, on='node_id', how='left').fillna(0)\n",
    "\n",
    "    # Salvar\n",
    "    feature_file = f\"{FEATURES_DIR}/features_{dia}.csv\"\n",
    "    features.to_csv(feature_file, index=False)\n",
    "    print(f\" Features do dia {dia} salvas em '{feature_file}'.\")\n",
    "\n",
    "print(\"\\n Extração e salvamento de features concluídos!\")\n"
   ]
  },
  {
   "cell_type": "markdown",
   "metadata": {},
   "source": [
    "## Embeddings"
   ]
  },
  {
   "cell_type": "code",
   "execution_count": 25,
   "metadata": {},
   "outputs": [
    {
     "data": {
      "application/vnd.jupyter.widget-view+json": {
       "model_id": "75c19ae695494e2f9578dae4488b3f7c",
       "version_major": 2,
       "version_minor": 0
      },
      "text/plain": [
       "Loading features:   0%|          | 0/3 [00:00<?, ?it/s]"
      ]
     },
     "metadata": {},
     "output_type": "display_data"
    },
    {
     "name": "stdout",
     "output_type": "stream",
     "text": [
      "Carregando ../data/matrizes/matriz_adjacencia_dia_01.txt...\n",
      "../data/matrizes/matriz_adjacencia_dia_01.txt - Dados convertidos para IDs numéricos:\n",
      "   src  dst  weight\n",
      "0    5   13     150\n",
      "1    5    8      88\n",
      "2    5   17      55\n",
      "3    5    0     192\n",
      "4    1    5     223\n",
      "Carregando ../data/matrizes/matriz_adjacencia_dia_02.txt...\n",
      "../data/matrizes/matriz_adjacencia_dia_02.txt - Dados convertidos para IDs numéricos:\n",
      "   src  dst  weight\n",
      "0    5    6     162\n",
      "1    5   16     163\n",
      "2    1    6     118\n",
      "3    1   17     157\n",
      "4    1   11     154\n",
      "Carregando ../data/matrizes/matriz_adjacencia_dia_03.txt...\n",
      "../data/matrizes/matriz_adjacencia_dia_03.txt - Dados convertidos para IDs numéricos:\n",
      "   src  dst  weight\n",
      "0    5    1      60\n",
      "1    5    9     156\n",
      "2    1    2      27\n",
      "3   10    8      37\n",
      "4   10   14     130\n"
     ]
    },
    {
     "data": {
      "application/vnd.jupyter.widget-view+json": {
       "model_id": "973bcc00129f4803b46ed3cf8c66ddac",
       "version_major": 2,
       "version_minor": 0
      },
      "text/plain": [
       "  0%|          | 0/150 [00:00<?, ?it/s]"
      ]
     },
     "metadata": {},
     "output_type": "display_data"
    }
   ],
   "source": [
    "import pandas as pd\n",
    "import torch\n",
    "import torch.nn as nn\n",
    "import torch.optim as optim\n",
    "import json\n",
    "import os\n",
    "from tqdm.notebook import tqdm_notebook as tqdm\n",
    "from glob import glob\n",
    "import numpy as np\n",
    "from src.preprocessing.gnn import generate_adjacency_matrices\n",
    "\n",
    "# Parâmetros\n",
    "epochs = 50\n",
    "DATASET_DIR = '../data'\n",
    "GRAPH_DIR = f'{DATASET_DIR}/graph'\n",
    "OUTPUT_DIR = f'{DATASET_DIR}/auto_embeddings'\n",
    "os.makedirs(OUTPUT_DIR, exist_ok=True)\n",
    "\n",
    "# Carregar lookup de IPs\n",
    "ip_lookup_path = f'{GRAPH_DIR}/ip_lookup.json'\n",
    "if not os.path.exists(ip_lookup_path):\n",
    "    raise FileNotFoundError(f\"Arquivo de mapeamento de IPs não encontrado: {ip_lookup_path}\")\n",
    "\n",
    "with open(ip_lookup_path, 'r') as file:\n",
    "    ip_lookup = json.load(file)\n",
    "    reverse_lookup = {v: k for k, v in ip_lookup.items()}\n",
    "    ip_nodes = len(reverse_lookup)\n",
    "\n",
    "# Carregar features\n",
    "flist = sorted(glob(f'{DATASET_DIR}/features/*.csv'))\n",
    "features = []\n",
    "for file in tqdm(flist, desc='Loading features'):\n",
    "    feat = pd.read_csv(file, index_col=[0]).sort_index()\n",
    "    features.append(torch.tensor(feat.to_numpy(), dtype=torch.float32))\n",
    "\n",
    "# Carregar matrizes de adjacência\n",
    "flist = sorted(glob(f'{DATASET_DIR}/matrizes/*.txt'))\n",
    "adj_matrices = generate_adjacency_matrices(flist, ip_lookup, weighted=True)\n",
    "\n",
    "# Modelo de Autoencoder com GCN\n",
    "class GCN(nn.Module):\n",
    "    def __init__(self, in_features, out_features):\n",
    "        super().__init__()\n",
    "        self.fc1 = nn.Linear(in_features, 2 * out_features)\n",
    "        self.relu = nn.ReLU()\n",
    "        self.fc2 = nn.Linear(2 * out_features, out_features)\n",
    "\n",
    "    def forward(self, x, adj):\n",
    "        h = torch.matmul(adj, x)\n",
    "        h = self.fc1(h)\n",
    "        h = self.relu(h)\n",
    "        h = self.fc2(h)\n",
    "        return h\n",
    "\n",
    "class GCN_Autoencoder(nn.Module):\n",
    "    def __init__(self, input_dim, hidden_dim):\n",
    "        super().__init__()\n",
    "        self.encoder = GCN(input_dim, hidden_dim)\n",
    "        self.decoder = nn.Linear(hidden_dim, input_dim)\n",
    "\n",
    "    def forward(self, x, adj):\n",
    "        z = self.encoder(x, adj)\n",
    "        x_hat = self.decoder(z)\n",
    "        return x_hat, z\n",
    "\n",
    "# Treinamento incremental com autoencoder\n",
    "pbar = tqdm(total=len(adj_matrices) * epochs)\n",
    "\n",
    "import random\n",
    "\n",
    "SEED = 42\n",
    "torch.manual_seed(SEED)\n",
    "np.random.seed(SEED)\n",
    "random.seed(SEED)\n",
    "\n",
    "for i in range(len(adj_matrices)):\n",
    "    A = torch.tensor(adj_matrices[i], dtype=torch.float32)\n",
    "    X = features[i]\n",
    "\n",
    "    input_dim = X.shape[1]\n",
    "    hidden_dim = 128\n",
    "    model = GCN_Autoencoder(input_dim, hidden_dim)\n",
    "    optimizer = optim.Adam(model.parameters(), lr=1e-3)\n",
    "    loss_fn = nn.MSELoss()\n",
    "\n",
    "    for epoch in range(epochs):\n",
    "        model.train()\n",
    "        optimizer.zero_grad()\n",
    "        x_hat, _ = model(X, A)\n",
    "        loss = loss_fn(x_hat, X)\n",
    "        loss.backward()\n",
    "        optimizer.step()\n",
    "        pbar.update(1)\n",
    "\n",
    "    # Obter os embeddings\n",
    "    model.eval()\n",
    "    with torch.no_grad():\n",
    "        _, embeddings = model(X, A)\n",
    "\n",
    "    embeddings = embeddings[:ip_nodes]\n",
    "    new_index = [reverse_lookup[x] for x in range(ip_nodes)]\n",
    "    embeddings_df = pd.DataFrame(embeddings.numpy(), index=new_index)\n",
    "    embeddings_df.index.name = \"src_ip\"\n",
    "\n",
    "    day = f'{i+1:02d}'\n",
    "    embeddings_df.to_csv(f'{OUTPUT_DIR}/embeddings_autoencoder_day_{day}.csv')\n",
    "\n",
    "    torch.save(model.state_dict(), f'../data/graph/modelo_gcn_day_{day}.pth')\n",
    "    torch.save(A, f'../data/matrizes/adj_matrix_day_{day}.pt')\n",
    "    torch.save(X, f'{OUTPUT_DIR}/X_train_day_{day}.pt')\n"
   ]
  },
  {
   "cell_type": "markdown",
   "metadata": {},
   "source": [
    "## Clusters formados"
   ]
  },
  {
   "cell_type": "code",
   "execution_count": 26,
   "metadata": {},
   "outputs": [
    {
     "name": "stdout",
     "output_type": "stream",
     "text": [
      "Clusters encontrados: [0 1 2 3]\n"
     ]
    },
    {
     "data": {
      "image/png": "[encoded data removed]",
      "text/plain": [
       "<Figure size 640x480 with 1 Axes>"
      ]
     },
     "metadata": {},
     "output_type": "display_data"
    }
   ],
   "source": [
    "from sklearn.cluster import KMeans\n",
    "from sklearn.decomposition import PCA\n",
    "import matplotlib.pyplot as plt\n",
    "import joblib\n",
    "from sklearn.preprocessing import StandardScaler\n",
    "\n",
    "# Agrupamento\n",
    "kmeans = KMeans(n_clusters=4, random_state=42)  # Número de clusters pode ser estimado\n",
    "clusters = kmeans.fit_predict(embeddings.numpy())\n",
    "print(\"Clusters encontrados:\", np.unique(clusters))\n",
    "\n",
    "joblib.dump(kmeans, '../data/cluster/modelo_kmeans.pkl')\n",
    "\n",
    "# Visualização\n",
    "pca = PCA(n_components=2)\n",
    "reduced = pca.fit_transform(embeddings.numpy())\n",
    "\n",
    "plt.scatter(reduced[:, 0], reduced[:, 1], c=clusters, cmap='viridis')\n",
    "plt.title(\"Clustering nos Embeddings Auto-supervisionados\")\n",
    "plt.show()\n"
   ]
  }
 ],
 "metadata": {
  "kernelspec": {
   "display_name": "Python 3",
   "language": "python",
   "name": "python3"
  },
  "language_info": {
   "codemirror_mode": {
    "name": "ipython",
    "version": 3
   },
   "file_extension": ".py",
   "mimetype": "text/x-python",
   "name": "python",
   "nbconvert_exporter": "python",
   "pygments_lexer": "ipython3",
   "version": "3.12.3"
  }
 },
 "nbformat": 4,
 "nbformat_minor": 2
}
